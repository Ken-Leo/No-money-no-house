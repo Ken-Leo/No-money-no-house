{
 "cells": [
  {
   "cell_type": "code",
   "execution_count": null,
   "metadata": {
    "collapsed": true
   },
   "outputs": [],
   "source": [
    "# This Python 3 environment comes with many helpful analytics libraries installed\n",
    "# It is defined by the kaggle/python docker image: https://github.com/kaggle/docker-python\n",
    "# For example, here's several helpful packages to load in \n",
    "\n",
    "import numpy as np # linear algebra\n",
    "import pandas as pd # data processing, CSV file I/O (e.g. pd.read_csv)\n",
    "import matplotlib\n",
    "import matplotlib.pyplot as plt\n",
    "%matplotlib inline\n",
    "\n",
    "import xgboost as xgb\n",
    "from xgboost.sklearn import XGBRegressor\n",
    "from sklearn import cross_validation, metrics\n",
    "from sklearn.grid_search import GridSearchCV\n",
    "\n",
    "from matplotlib.pylab import rcParams\n",
    "#rcParams['figure.figsize'] = 12, 4\n",
    "\n",
    "from scipy.stats import skew\n",
    "from scipy.stats.stats import pearsonr\n",
    "# Input data files are available in the \"../input/\" directory.\n",
    "# For example, running this (by clicking run or pressing Shift+Enter) will list the files in the input directory\n",
    "\n",
    "from subprocess import check_output\n",
    "print(check_output([\"ls\", \"../input\"]).decode(\"utf8\"))\n",
    "\n",
    "# The error metric: RMSE on the log of the sale prices.\n",
    "from sklearn.metrics import mean_squared_error\n",
    "def rmse(y_true, y_pred):\n",
    "    return np.sqrt(mean_squared_error(y_true, y_pred))\n",
    "# Any results you write to the current directory are saved as output."
   ]
  },
  {
   "cell_type": "code",
   "execution_count": null,
   "metadata": {
    "collapsed": true
   },
   "outputs": [],
   "source": [
    "train = pd.read_csv('train_modified.csv')\n",
    "test = pd.read_csv('test_modified.csv')\n",
    "label_df = pd.read_csv('label_df.csv')\n",
    "\n",
    "train.shape, test.shape,label_df.shape"
   ]
  },
  {
   "cell_type": "markdown",
   "metadata": {},
   "source": [
    "Define a function for modeling and cross-validation\n",
    "---------------------------------------------------\n",
    "\n",
    "This function will do the following:\n",
    "\n",
    "1.fit the model\n",
    "\n",
    "2.determine training accuracy\n",
    "\n",
    "3.update n_estimators with cv function of xgboost package\n"
   ]
  },
  {
   "cell_type": "code",
   "execution_count": null,
   "metadata": {
    "collapsed": true
   },
   "outputs": [],
   "source": [
    "def modelfit(alg, dtrain, dtest,useTrainCV=True, cv_folds=5, early_stopping_rounds=50):\n",
    "    \n",
    "    if useTrainCV:\n",
    "        xgb_param = alg.get_xgb_params()\n",
    "        xgtrain = xgb.DMatrix(dtrain, label_df)\n",
    "        xgtest = xgb.DMatrix(dtest)\n",
    "        cvresult = xgb.cv(xgb_param, xgtrain, num_boost_round=alg.get_params()['n_estimators'], nfold=cv_folds,\n",
    "             early_stopping_rounds=early_stopping_rounds)\n",
    "        alg.set_params(n_estimators=cvresult.shape[0])\n",
    "    \n",
    "    #Fit the algorithm on the data\n",
    "    alg.fit(dtrain, label_df)\n",
    "    \n",
    "    # Run prediction on training set to get a rough idea of how well it does.\n",
    "    y_pred = alg.predict(dtrain)\n",
    "    y_test = label_df\n",
    "    print(\"XGBoost score on training set: \", rmse(y_test, y_pred))"
   ]
  },
  {
   "cell_type": "markdown",
   "metadata": {},
   "source": [
    "**Step 1**- Find the number of estimators for a high learning rate"
   ]
  },
  {
   "cell_type": "code",
   "execution_count": null,
   "metadata": {
    "collapsed": true
   },
   "outputs": [],
   "source": [
    "xgb1 = xgb.XGBRegressor(\n",
    "                 colsample_bytree=0.2,\n",
    "                 gamma=0.0,\n",
    "                 learning_rate=0.1,\n",
    "                 max_depth=4,\n",
    "                 min_child_weight=1.5,\n",
    "                 n_estimators=7200,                                                                  \n",
    "                 reg_alpha=0.9,\n",
    "                 reg_lambda=0.6,\n",
    "                 subsample=0.2,\n",
    "                 seed=42,\n",
    "                 silent=1)\n",
    "modelfit(xgb1, train, test)"
   ]
  },
  {
   "cell_type": "code",
   "execution_count": null,
   "metadata": {
    "collapsed": true
   },
   "outputs": [],
   "source": [
    "#Grid seach on subsample and max_features\n",
    "#Choose all predictors          \n",
    "param_test1 = {\n",
    "    'max_depth':list(range(3,10)),\n",
    "    'min_child_weight':list(range(1,6,2))\n",
    "}\n",
    "gsearch1 = GridSearchCV(estimator = XGBRegressor( learning_rate =0.1, n_estimators=7200, max_depth=5,\n",
    "                        min_child_weight=1, gamma=0, subsample=0.2, colsample_bytree=0.2,\n",
    "                        nthread=4, scale_pos_weight=1, seed=42), \n",
    "                        param_grid = param_test1,n_jobs=4,iid=False, cv=5)\n",
    "gsearch1.fit(train,label_df)"
   ]
  },
  {
   "cell_type": "code",
   "execution_count": null,
   "metadata": {
    "collapsed": true
   },
   "outputs": [],
   "source": [
    "gsearch1.grid_scores_, gsearch1.best_params_, gsearch1.best_score_"
   ]
  },
  {
   "cell_type": "code",
   "execution_count": null,
   "metadata": {
    "collapsed": true
   },
   "outputs": [],
   "source": [
    "#Grid seach on subsample and max_features\n",
    "#Choose all predictors          \n",
    "param_test2 = {\n",
    "    'max_depth':list(range(3,10)),\n",
    "    'min_child_weight':list(range(1,6))\n",
    "}\n",
    "gsearch2 = GridSearchCV(estimator = XGBRegressor( learning_rate =0.1, n_estimators=7200, max_depth=5,\n",
    "                        min_child_weight=1, gamma=0, subsample=0.2, colsample_bytree=0.2,\n",
    "                        nthread=4, scale_pos_weight=1, seed=42), \n",
    "                        param_grid = param_test2,n_jobs=4,iid=False, cv=5)\n",
    "gsearch2.fit(train,label_df)"
   ]
  },
  {
   "cell_type": "code",
   "execution_count": null,
   "metadata": {
    "collapsed": true
   },
   "outputs": [],
   "source": [
    "gsearch2.grid_scores_, gsearch2.best_params_, gsearch2.best_score_"
   ]
  },
  {
   "cell_type": "code",
   "execution_count": null,
   "metadata": {
    "collapsed": true
   },
   "outputs": [],
   "source": [
    "#Grid seach on subsample and max_features\n",
    "#Choose all predictors          \n",
    "param_test2b = {\n",
    "    'max_depth':list(range(3,10)),\n",
    "    'min_child_weight':list(range(1,6))\n",
    "}\n",
    "gsearch2b = GridSearchCV(estimator = XGBRegressor( learning_rate =0.1, n_estimators=7200, max_depth=5,\n",
    "                        min_child_weight=1, gamma=0, subsample=0.2, colsample_bytree=0.2,\n",
    "                        nthread=4, scale_pos_weight=1, seed=42), \n",
    "                        param_grid = param_test2b,n_jobs=4,iid=False, cv=5)\n",
    "gsearch2b.fit(train,label_df)"
   ]
  },
  {
   "cell_type": "code",
   "execution_count": null,
   "metadata": {
    "collapsed": true
   },
   "outputs": [],
   "source": [
    "gsearch2b.grid_scores_, gsearch2b.best_params_, gsearch2b.best_score_"
   ]
  },
  {
   "cell_type": "code",
   "execution_count": null,
   "metadata": {
    "collapsed": true
   },
   "outputs": [],
   "source": [
    "#Grid seach on subsample and max_features\n",
    "#Choose all predictors \n",
    "param_test3 = {\n",
    "    'gamma':[i/10.0 for i in range(0,5)]\n",
    "}\n",
    "gsearch3 = GridSearchCV(estimator = XGBRegressor( learning_rate =0.1, n_estimators=7200, max_depth=4,\n",
    "                        min_child_weight=1.2, gamma=0, subsample=0.2, colsample_bytree=0.2,\n",
    "                        nthread=4, scale_pos_weight=1, seed=42), \n",
    "                        param_grid = param_test3,n_jobs=4,iid=False, cv=5)\n",
    "gsearch3.fit(train,label_df)"
   ]
  },
  {
   "cell_type": "code",
   "execution_count": null,
   "metadata": {
    "collapsed": true
   },
   "outputs": [],
   "source": [
    "gsearch3.grid_scores_, gsearch3.best_params_, gsearch3.best_score_"
   ]
  },
  {
   "cell_type": "code",
   "execution_count": null,
   "metadata": {
    "collapsed": true
   },
   "outputs": [],
   "source": [
    "#Grid seach on subsample and max_features\n",
    "#Choose all predictors \n",
    "param_test4 = {\n",
    "    'subsample':[i/10.0 for i in range(1,10)],\n",
    "    'colsample_bytree':[i/10.0 for i in range(1,10)]\n",
    "}\n",
    "gsearch4 = GridSearchCV(estimator = XGBRegressor( learning_rate =0.1, n_estimators=7200, max_depth=4,\n",
    "                        min_child_weight=1.2, gamma=0, subsample=0.2, colsample_bytree=0.2,\n",
    "                        nthread=4, scale_pos_weight=1, seed=42), \n",
    "                        param_grid = param_test4,n_jobs=4,iid=False, cv=5)\n",
    "gsearch4.fit(train,label_df)"
   ]
  },
  {
   "cell_type": "code",
   "execution_count": null,
   "metadata": {
    "collapsed": true
   },
   "outputs": [],
   "source": [
    "gsearch4.grid_scores_, gsearch4.best_params_, gsearch4.best_score_"
   ]
  },
  {
   "cell_type": "code",
   "execution_count": null,
   "metadata": {
    "collapsed": true
   },
   "outputs": [],
   "source": [
    "#Grid seach on subsample and max_features\n",
    "#Choose all predictors \n",
    "param_test6 = {\n",
    "    'reg_alpha':[1e-5, 1e-2, 0.1, 1, 100]\n",
    "}\n",
    "gsearch6 = GridSearchCV(estimator = XGBRegressor( learning_rate =0.1, n_estimators=7200, max_depth=4,\n",
    "                        min_child_weight=1.2, gamma=0, subsample=0.2, colsample_bytree=0.2,\n",
    "                        nthread=4, scale_pos_weight=1, seed=42), \n",
    "                        param_grid = param_test6,n_jobs=4,iid=False, cv=5)\n",
    "gsearch6.fit(train,label_df)"
   ]
  },
  {
   "cell_type": "code",
   "execution_count": null,
   "metadata": {
    "collapsed": true
   },
   "outputs": [],
   "source": [
    "gsearch6.grid_scores_, gsearch6.best_params_, gsearch6.best_score_"
   ]
  },
  {
   "cell_type": "code",
   "execution_count": null,
   "metadata": {
    "collapsed": true
   },
   "outputs": [],
   "source": [
    "#Grid seach on subsample and max_features\n",
    "#Choose all predictors \n",
    "param_test7 = {\n",
    "    'reg_lambda':[1e-5, 1e-2, 0.1, 1]\n",
    "}\n",
    "gsearch7 = GridSearchCV(estimator = XGBRegressor( learning_rate =0.1, n_estimators=7200, max_depth=4,\n",
    "                        min_child_weight=1.2, gamma=0, subsample=0.2, colsample_bytree=0.2,\n",
    "                        nthread=4, scale_pos_weight=1, seed=42), \n",
    "                        param_grid = param_test7,n_jobs=4,iid=False, cv=5)\n",
    "gsearch7.fit(train,label_df)"
   ]
  },
  {
   "cell_type": "code",
   "execution_count": null,
   "metadata": {
    "collapsed": true
   },
   "outputs": [],
   "source": [
    "gsearch7.grid_scores_, gsearch7.best_params_, gsearch7.best_score_"
   ]
  }
 ],
 "metadata": {
  "kernelspec": {
   "display_name": "Python 3",
   "language": "python",
   "name": "python3"
  },
  "language_info": {
   "codemirror_mode": {
    "name": "ipython",
    "version": 3
   },
   "file_extension": ".py",
   "mimetype": "text/x-python",
   "name": "python",
   "nbconvert_exporter": "python",
   "pygments_lexer": "ipython3",
   "version": "3.6.0"
  }
 },
 "nbformat": 4,
 "nbformat_minor": 0
}
